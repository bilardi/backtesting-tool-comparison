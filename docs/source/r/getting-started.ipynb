{
 "cells": [
  {
   "cell_type": "markdown",
   "metadata": {},
   "source": [
    "## Getting started\n",
    "\n",
    "R is a programming language and software environment for statistical analysis, graphics representation and reporting.\n",
    "\n",
    "This is a summary of the r language syntax: you can find more details in [cran documentation](https://cran.r-project.org/doc/manuals/r-devel/R-lang.html).\n",
    "\n",
    "### Basics"
   ]
  },
  {
   "cell_type": "code",
   "execution_count": 1,
   "metadata": {},
   "outputs": [
    {
     "data": {
      "text/html": [
       "1"
      ],
      "text/latex": [
       "1"
      ],
      "text/markdown": [
       "1"
      ],
      "text/plain": [
       "[1] 1"
      ]
     },
     "metadata": {},
     "output_type": "display_data"
    },
    {
     "name": "stdout",
     "output_type": "stream",
     "text": [
      "[1] \"hello\"\n"
     ]
    }
   ],
   "source": [
    "# initialization of a variable\n",
    "my_numeric_variable <- 1\n",
    "my_string_variable <- \"hello\"\n",
    "# print a variable\n",
    "my_numeric_variable # and type enter\n",
    "print(my_string_variable)"
   ]
  },
  {
   "cell_type": "markdown",
   "metadata": {},
   "source": [
    "### Vectors"
   ]
  },
  {
   "cell_type": "code",
   "execution_count": 2,
   "metadata": {},
   "outputs": [],
   "source": [
    "# initialization of a vector\n",
    "my_numeric_vector <- c(1,2,3,4,5,6)\n",
    "my_sequence <- 1:25\n",
    "my_string_vector <- c(\"hello\", \"world\", \"!\")\n",
    "my_logic_vector <- c(TRUE, FALSE, T, F)\n",
    "assign(\"my_vector\", c(1:6))\n",
    "my_random_vector <- sample(1:5000, 25) # Vector with 25 elements with random number from 1 to 5000"
   ]
  },
  {
   "cell_type": "code",
   "execution_count": 3,
   "metadata": {},
   "outputs": [
    {
     "data": {
      "text/html": [
       "21"
      ],
      "text/latex": [
       "21"
      ],
      "text/markdown": [
       "21"
      ],
      "text/plain": [
       "[1] 21"
      ]
     },
     "metadata": {},
     "output_type": "display_data"
    },
    {
     "data": {
      "text/html": [
       "3.5"
      ],
      "text/latex": [
       "3.5"
      ],
      "text/markdown": [
       "3.5"
      ],
      "text/plain": [
       "[1] 3.5"
      ]
     },
     "metadata": {},
     "output_type": "display_data"
    },
    {
     "data": {
      "text/html": [
       "3.5"
      ],
      "text/latex": [
       "3.5"
      ],
      "text/markdown": [
       "3.5"
      ],
      "text/plain": [
       "[1] 3.5"
      ]
     },
     "metadata": {},
     "output_type": "display_data"
    }
   ],
   "source": [
    "# operations with vectors\n",
    "sum(my_numeric_vector)\n",
    "mean(my_numeric_vector)\n",
    "median(my_numeric_vector)"
   ]
  },
  {
   "cell_type": "code",
   "execution_count": 4,
   "metadata": {},
   "outputs": [
    {
     "data": {
      "text/html": [
       "<style>\n",
       ".list-inline {list-style: none; margin:0; padding: 0}\n",
       ".list-inline>li {display: inline-block}\n",
       ".list-inline>li:not(:last-child)::after {content: \"\\00b7\"; padding: 0 .5ex}\n",
       "</style>\n",
       "<ol class=list-inline><li>2</li><li>4</li><li>6</li><li>8</li><li>10</li><li>12</li></ol>\n"
      ],
      "text/latex": [
       "\\begin{enumerate*}\n",
       "\\item 2\n",
       "\\item 4\n",
       "\\item 6\n",
       "\\item 8\n",
       "\\item 10\n",
       "\\item 12\n",
       "\\end{enumerate*}\n"
      ],
      "text/markdown": [
       "1. 2\n",
       "2. 4\n",
       "3. 6\n",
       "4. 8\n",
       "5. 10\n",
       "6. 12\n",
       "\n",
       "\n"
      ],
      "text/plain": [
       "[1]  2  4  6  8 10 12"
      ]
     },
     "metadata": {},
     "output_type": "display_data"
    },
    {
     "data": {
      "text/html": [
       "<style>\n",
       ".list-inline {list-style: none; margin:0; padding: 0}\n",
       ".list-inline>li {display: inline-block}\n",
       ".list-inline>li:not(:last-child)::after {content: \"\\00b7\"; padding: 0 .5ex}\n",
       "</style>\n",
       "<ol class=list-inline><li>0.5</li><li>1</li><li>1.5</li><li>2</li><li>2.5</li><li>3</li></ol>\n"
      ],
      "text/latex": [
       "\\begin{enumerate*}\n",
       "\\item 0.5\n",
       "\\item 1\n",
       "\\item 1.5\n",
       "\\item 2\n",
       "\\item 2.5\n",
       "\\item 3\n",
       "\\end{enumerate*}\n"
      ],
      "text/markdown": [
       "1. 0.5\n",
       "2. 1\n",
       "3. 1.5\n",
       "4. 2\n",
       "5. 2.5\n",
       "6. 3\n",
       "\n",
       "\n"
      ],
      "text/plain": [
       "[1] 0.5 1.0 1.5 2.0 2.5 3.0"
      ]
     },
     "metadata": {},
     "output_type": "display_data"
    }
   ],
   "source": [
    "# multiplication 2 with each element of a vector\n",
    "my_vector*2\n",
    "# division 2 with each element of a vector\n",
    "my_vector/2"
   ]
  },
  {
   "cell_type": "code",
   "execution_count": 5,
   "metadata": {},
   "outputs": [
    {
     "name": "stderr",
     "output_type": "stream",
     "text": [
      "Warning message in my_numeric_vector + my_sequence:\n",
      "“longer object length is not a multiple of shorter object length”\n",
      "Warning message in my_numeric_vector + c(1:5):\n",
      "“longer object length is not a multiple of shorter object length”\n"
     ]
    }
   ],
   "source": [
    "# sum each element of a vector with another vector by position\n",
    "my_new_vector <- my_numeric_vector + my_vector # allow\n",
    "my_new_vector <- my_numeric_vector + my_sequence # allow but with warning\n",
    "my_new_vector <- my_numeric_vector + c(1:5) # allow but with warning"
   ]
  },
  {
   "cell_type": "code",
   "execution_count": 6,
   "metadata": {},
   "outputs": [
    {
     "data": {
      "text/html": [
       "'hello'"
      ],
      "text/latex": [
       "'hello'"
      ],
      "text/markdown": [
       "'hello'"
      ],
      "text/plain": [
       "[1] \"hello\""
      ]
     },
     "metadata": {},
     "output_type": "display_data"
    },
    {
     "data": {
      "text/html": [
       "<style>\n",
       ".list-inline {list-style: none; margin:0; padding: 0}\n",
       ".list-inline>li {display: inline-block}\n",
       ".list-inline>li:not(:last-child)::after {content: \"\\00b7\"; padding: 0 .5ex}\n",
       "</style>\n",
       "<ol class=list-inline><li>'hello'</li><li>'!'</li></ol>\n"
      ],
      "text/latex": [
       "\\begin{enumerate*}\n",
       "\\item 'hello'\n",
       "\\item '!'\n",
       "\\end{enumerate*}\n"
      ],
      "text/markdown": [
       "1. 'hello'\n",
       "2. '!'\n",
       "\n",
       "\n"
      ],
      "text/plain": [
       "[1] \"hello\" \"!\"    "
      ]
     },
     "metadata": {},
     "output_type": "display_data"
    },
    {
     "data": {
      "text/html": [
       "<style>\n",
       ".list-inline {list-style: none; margin:0; padding: 0}\n",
       ".list-inline>li {display: inline-block}\n",
       ".list-inline>li:not(:last-child)::after {content: \"\\00b7\"; padding: 0 .5ex}\n",
       "</style>\n",
       "<ol class=list-inline><li>'hello'</li><li>'world'</li></ol>\n"
      ],
      "text/latex": [
       "\\begin{enumerate*}\n",
       "\\item 'hello'\n",
       "\\item 'world'\n",
       "\\end{enumerate*}\n"
      ],
      "text/markdown": [
       "1. 'hello'\n",
       "2. 'world'\n",
       "\n",
       "\n"
      ],
      "text/plain": [
       "[1] \"hello\" \"world\""
      ]
     },
     "metadata": {},
     "output_type": "display_data"
    },
    {
     "data": {
      "text/html": [
       "<style>\n",
       ".list-inline {list-style: none; margin:0; padding: 0}\n",
       ".list-inline>li {display: inline-block}\n",
       ".list-inline>li:not(:last-child)::after {content: \"\\00b7\"; padding: 0 .5ex}\n",
       "</style>\n",
       "<ol class=list-inline><li>'hello'</li><li>'!'</li></ol>\n"
      ],
      "text/latex": [
       "\\begin{enumerate*}\n",
       "\\item 'hello'\n",
       "\\item '!'\n",
       "\\end{enumerate*}\n"
      ],
      "text/markdown": [
       "1. 'hello'\n",
       "2. '!'\n",
       "\n",
       "\n"
      ],
      "text/plain": [
       "[1] \"hello\" \"!\"    "
      ]
     },
     "metadata": {},
     "output_type": "display_data"
    }
   ],
   "source": [
    "# get element from a vector\n",
    "my_string_vector[1] # print hello\n",
    "my_string_vector[-2] # print hello!\n",
    "my_string_vector[1:2] # print hello world\n",
    "my_string_vector[c(1,3)] # print hello!"
   ]
  },
  {
   "cell_type": "code",
   "execution_count": 7,
   "metadata": {},
   "outputs": [
    {
     "name": "stdout",
     "output_type": "stream",
     "text": [
      "  one   two three  four  five   six \n",
      "    1     2     3     4     5     6 \n"
     ]
    }
   ],
   "source": [
    "# add labels to a vector\n",
    "names(my_vector) <- c(\"one\",\"two\",\"three\",\"four\",\"five\",\"six\")\n",
    "print(my_vector)"
   ]
  },
  {
   "cell_type": "code",
   "execution_count": 8,
   "metadata": {},
   "outputs": [
    {
     "data": {
      "text/html": [
       "'integer'"
      ],
      "text/latex": [
       "'integer'"
      ],
      "text/markdown": [
       "'integer'"
      ],
      "text/plain": [
       "[1] \"integer\""
      ]
     },
     "metadata": {},
     "output_type": "display_data"
    },
    {
     "data": {
      "text/html": [
       "'character'"
      ],
      "text/latex": [
       "'character'"
      ],
      "text/markdown": [
       "'character'"
      ],
      "text/plain": [
       "[1] \"character\""
      ]
     },
     "metadata": {},
     "output_type": "display_data"
    },
    {
     "data": {
      "text/html": [
       "'numeric'"
      ],
      "text/latex": [
       "'numeric'"
      ],
      "text/markdown": [
       "'numeric'"
      ],
      "text/plain": [
       "[1] \"numeric\""
      ]
     },
     "metadata": {},
     "output_type": "display_data"
    }
   ],
   "source": [
    "# get data type of a vector\n",
    "class(my_vector) # print integer\n",
    "typeof(my_string_vector) # print character\n",
    "mode(my_vector) # print numeric"
   ]
  },
  {
   "cell_type": "code",
   "execution_count": 9,
   "metadata": {},
   "outputs": [
    {
     "data": {
      "text/html": [
       "<style>\n",
       ".list-inline {list-style: none; margin:0; padding: 0}\n",
       ".list-inline>li {display: inline-block}\n",
       ".list-inline>li:not(:last-child)::after {content: \"\\00b7\"; padding: 0 .5ex}\n",
       "</style>\n",
       "<ol class=list-inline><li>'1'</li><li>'2'</li><li>'3'</li><li>'4'</li><li>'5'</li><li>'6'</li></ol>\n"
      ],
      "text/latex": [
       "\\begin{enumerate*}\n",
       "\\item '1'\n",
       "\\item '2'\n",
       "\\item '3'\n",
       "\\item '4'\n",
       "\\item '5'\n",
       "\\item '6'\n",
       "\\end{enumerate*}\n"
      ],
      "text/markdown": [
       "1. '1'\n",
       "2. '2'\n",
       "3. '3'\n",
       "4. '4'\n",
       "5. '5'\n",
       "6. '6'\n",
       "\n",
       "\n"
      ],
      "text/plain": [
       "[1] \"1\" \"2\" \"3\" \"4\" \"5\" \"6\""
      ]
     },
     "metadata": {},
     "output_type": "display_data"
    }
   ],
   "source": [
    "# convertion of each element of a vector\n",
    "as.character(my_vector)"
   ]
  },
  {
   "cell_type": "markdown",
   "metadata": {},
   "source": [
    "### Matrixes\n",
    "\n",
    "A matrix is a vector with more dimensions"
   ]
  },
  {
   "cell_type": "code",
   "execution_count": 10,
   "metadata": {},
   "outputs": [
    {
     "data": {
      "text/html": [
       "<table>\n",
       "<caption>A matrix: 2 × 5 of type int</caption>\n",
       "<tbody>\n",
       "\t<tr><td>1</td><td>3</td><td>5</td><td>7</td><td> 9</td></tr>\n",
       "\t<tr><td>2</td><td>4</td><td>6</td><td>8</td><td>10</td></tr>\n",
       "</tbody>\n",
       "</table>\n"
      ],
      "text/latex": [
       "A matrix: 2 × 5 of type int\n",
       "\\begin{tabular}{lllll}\n",
       "\t 1 & 3 & 5 & 7 &  9\\\\\n",
       "\t 2 & 4 & 6 & 8 & 10\\\\\n",
       "\\end{tabular}\n"
      ],
      "text/markdown": [
       "\n",
       "A matrix: 2 × 5 of type int\n",
       "\n",
       "| 1 | 3 | 5 | 7 |  9 |\n",
       "| 2 | 4 | 6 | 8 | 10 |\n",
       "\n"
      ],
      "text/plain": [
       "     [,1] [,2] [,3] [,4] [,5]\n",
       "[1,] 1    3    5    7     9  \n",
       "[2,] 2    4    6    8    10  "
      ]
     },
     "metadata": {},
     "output_type": "display_data"
    },
    {
     "data": {
      "text/html": [
       "4"
      ],
      "text/latex": [
       "4"
      ],
      "text/markdown": [
       "4"
      ],
      "text/plain": [
       "[1] 4"
      ]
     },
     "metadata": {},
     "output_type": "display_data"
    },
    {
     "data": {
      "text/html": [
       "<style>\n",
       ".list-inline {list-style: none; margin:0; padding: 0}\n",
       ".list-inline>li {display: inline-block}\n",
       ".list-inline>li:not(:last-child)::after {content: \"\\00b7\"; padding: 0 .5ex}\n",
       "</style>\n",
       "<ol class=list-inline><li>1</li><li>3</li><li>5</li><li>7</li><li>9</li></ol>\n"
      ],
      "text/latex": [
       "\\begin{enumerate*}\n",
       "\\item 1\n",
       "\\item 3\n",
       "\\item 5\n",
       "\\item 7\n",
       "\\item 9\n",
       "\\end{enumerate*}\n"
      ],
      "text/markdown": [
       "1. 1\n",
       "2. 3\n",
       "3. 5\n",
       "4. 7\n",
       "5. 9\n",
       "\n",
       "\n"
      ],
      "text/plain": [
       "[1] 1 3 5 7 9"
      ]
     },
     "metadata": {},
     "output_type": "display_data"
    },
    {
     "data": {
      "text/html": [
       "<style>\n",
       ".list-inline {list-style: none; margin:0; padding: 0}\n",
       ".list-inline>li {display: inline-block}\n",
       ".list-inline>li:not(:last-child)::after {content: \"\\00b7\"; padding: 0 .5ex}\n",
       "</style>\n",
       "<ol class=list-inline><li>3</li><li>4</li></ol>\n"
      ],
      "text/latex": [
       "\\begin{enumerate*}\n",
       "\\item 3\n",
       "\\item 4\n",
       "\\end{enumerate*}\n"
      ],
      "text/markdown": [
       "1. 3\n",
       "2. 4\n",
       "\n",
       "\n"
      ],
      "text/plain": [
       "[1] 3 4"
      ]
     },
     "metadata": {},
     "output_type": "display_data"
    }
   ],
   "source": [
    "# matrix\n",
    "my_matrix <- matrix(1:10, nrow = 2, ncol = 5) # creates a matrix bidimensional with 2 rows and 5 columns\n",
    "my_matrix\n",
    "my_matrix[2,2] # prints 4\n",
    "my_matrix[1,] # prints row 1\n",
    "my_matrix[,2] # prints column 2"
   ]
  },
  {
   "cell_type": "code",
   "execution_count": 11,
   "metadata": {},
   "outputs": [],
   "source": [
    "# merge of vectors\n",
    "vector_one <- c(\"one\", 0.1)\n",
    "vector_two <- c(\"two\", 1)\n",
    "vector_three <- c(\"three\", 10)\n",
    "my_vectors <- matrix(c(vector_one, vector_two, vector_three), nrow = 3, ncol = 2, byrow = 1)\n",
    "colnames(my_vectors) <- c(\"vector number\", \"quantity\")\n",
    "rownames(my_vectors) <- c(\"yesterday\", \"today\", \"tomorrow\")"
   ]
  },
  {
   "cell_type": "code",
   "execution_count": 12,
   "metadata": {},
   "outputs": [
    {
     "data": {
      "text/html": [
       "<table>\n",
       "<caption>A matrix: 3 × 2 of type chr</caption>\n",
       "<thead>\n",
       "\t<tr><th></th><th scope=col>vector number</th><th scope=col>quantity</th></tr>\n",
       "</thead>\n",
       "<tbody>\n",
       "\t<tr><th scope=row>yesterday</th><td>one  </td><td>0.1</td></tr>\n",
       "\t<tr><th scope=row>today</th><td>two  </td><td>1  </td></tr>\n",
       "\t<tr><th scope=row>tomorrow</th><td>three</td><td>10 </td></tr>\n",
       "</tbody>\n",
       "</table>\n"
      ],
      "text/latex": [
       "A matrix: 3 × 2 of type chr\n",
       "\\begin{tabular}{r|ll}\n",
       "  & vector number & quantity\\\\\n",
       "\\hline\n",
       "\tyesterday & one   & 0.1\\\\\n",
       "\ttoday & two   & 1  \\\\\n",
       "\ttomorrow & three & 10 \\\\\n",
       "\\end{tabular}\n"
      ],
      "text/markdown": [
       "\n",
       "A matrix: 3 × 2 of type chr\n",
       "\n",
       "| <!--/--> | vector number | quantity |\n",
       "|---|---|---|\n",
       "| yesterday | one   | 0.1 |\n",
       "| today | two   | 1   |\n",
       "| tomorrow | three | 10  |\n",
       "\n"
      ],
      "text/plain": [
       "          vector number quantity\n",
       "yesterday one           0.1     \n",
       "today     two           1       \n",
       "tomorrow  three         10      "
      ]
     },
     "metadata": {},
     "output_type": "display_data"
    }
   ],
   "source": [
    "my_vectors"
   ]
  },
  {
   "cell_type": "markdown",
   "metadata": {},
   "source": [
    "### Weighted average"
   ]
  },
  {
   "cell_type": "code",
   "execution_count": 13,
   "metadata": {},
   "outputs": [
    {
     "data": {
      "text/html": [
       "7"
      ],
      "text/latex": [
       "7"
      ],
      "text/markdown": [
       "7"
      ],
      "text/plain": [
       "[1] 7"
      ]
     },
     "metadata": {},
     "output_type": "display_data"
    }
   ],
   "source": [
    "# performance\n",
    "apple_performance <- 3\n",
    "netflix_performance <- 7\n",
    "amazon_performance <- 11\n",
    "# weight\n",
    "apple_weight <- .3\n",
    "netflix_weight <- .4\n",
    "amazon_weight <- .3\n",
    "# portfolio performance\n",
    "weighted_average <- apple_performance * apple_weight + netflix_performance * netflix_weight + amazon_performance * amazon_weight\n",
    "weighted_average"
   ]
  },
  {
   "cell_type": "code",
   "execution_count": 14,
   "metadata": {},
   "outputs": [
    {
     "data": {
      "text/html": [
       "<style>\n",
       ".dl-inline {width: auto; margin:0; padding: 0}\n",
       ".dl-inline>dt, .dl-inline>dd {float: none; width: auto; display: inline-block}\n",
       ".dl-inline>dt::after {content: \":\\0020\"; padding-right: .5ex}\n",
       ".dl-inline>dt:not(:first-of-type) {padding-left: .5ex}\n",
       "</style><dl class=dl-inline><dt>apple</dt><dd>0.9</dd><dt>netflix</dt><dd>2.8</dd><dt>amazon</dt><dd>3.3</dd></dl>\n"
      ],
      "text/latex": [
       "\\begin{description*}\n",
       "\\item[apple] 0.9\n",
       "\\item[netflix] 2.8\n",
       "\\item[amazon] 3.3\n",
       "\\end{description*}\n"
      ],
      "text/markdown": [
       "apple\n",
       ":   0.9netflix\n",
       ":   2.8amazon\n",
       ":   3.3\n",
       "\n"
      ],
      "text/plain": [
       "  apple netflix  amazon \n",
       "    0.9     2.8     3.3 "
      ]
     },
     "metadata": {},
     "output_type": "display_data"
    },
    {
     "data": {
      "text/html": [
       "7"
      ],
      "text/latex": [
       "7"
      ],
      "text/markdown": [
       "7"
      ],
      "text/plain": [
       "[1] 7"
      ]
     },
     "metadata": {},
     "output_type": "display_data"
    }
   ],
   "source": [
    "# the same sample but with vectors\n",
    "performance <- c(3,7,11)\n",
    "weight <- c(.3,.4,.3)\n",
    "company <- c('apple','netflix','amazon')\n",
    "names(performance) <- company\n",
    "names(weight) <- company\n",
    "performance_weight <- performance * weight\n",
    "performance_weight\n",
    "weighted_average <- sum(performance_weight)\n",
    "weighted_average"
   ]
  },
  {
   "cell_type": "markdown",
   "metadata": {},
   "source": [
    "### Functions"
   ]
  },
  {
   "cell_type": "code",
   "execution_count": 15,
   "metadata": {},
   "outputs": [
    {
     "data": {
      "text/html": [
       "7"
      ],
      "text/latex": [
       "7"
      ],
      "text/markdown": [
       "7"
      ],
      "text/plain": [
       "[1] 7"
      ]
     },
     "metadata": {},
     "output_type": "display_data"
    }
   ],
   "source": [
    "# the weighted average but with a function\n",
    "weighted_average_function <- function(performance, weight) {\n",
    "    return(sum(performance * weight))\n",
    "}\n",
    "performance <- c(3,7,11)\n",
    "weight <- c(.3,.4,.3)\n",
    "weighted_average <- weighted_average_function(performance, weight)\n",
    "weighted_average"
   ]
  }
 ],
 "metadata": {
  "kernelspec": {
   "display_name": "R",
   "language": "R",
   "name": "ir"
  },
  "language_info": {
   "codemirror_mode": "r",
   "file_extension": ".r",
   "mimetype": "text/x-r-source",
   "name": "R",
   "pygments_lexer": "r",
   "version": "4.0.3"
  }
 },
 "nbformat": 4,
 "nbformat_minor": 4
}
