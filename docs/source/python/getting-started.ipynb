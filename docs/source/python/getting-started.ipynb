{
 "cells": [
  {
   "cell_type": "markdown",
   "metadata": {},
   "source": [
    "## Getting started\n",
    "\n",
    "Python is a programming language and it has more libraries dedicated for statistical analysis, graphics representation and reporting.\n",
    "\n",
    "This is a summary of the Python language syntax: you can find more details in [python documentation](https://wiki.python.org/moin/BeginnersGuide). \n",
    "\n",
    "### Basics"
   ]
  },
  {
   "cell_type": "code",
   "execution_count": 1,
   "metadata": {},
   "outputs": [],
   "source": [
    "# initialization of a variable\n",
    "my_numeric_variable = 1\n",
    "my_string_variable = \"hello\""
   ]
  },
  {
   "cell_type": "code",
   "execution_count": 2,
   "metadata": {},
   "outputs": [
    {
     "data": {
      "text/plain": [
       "1"
      ]
     },
     "execution_count": 2,
     "metadata": {},
     "output_type": "execute_result"
    }
   ],
   "source": [
    "# print a variable directly\n",
    "my_numeric_variable"
   ]
  },
  {
   "cell_type": "code",
   "execution_count": 3,
   "metadata": {},
   "outputs": [
    {
     "name": "stdout",
     "output_type": "stream",
     "text": [
      "hello\n"
     ]
    }
   ],
   "source": [
    "# print method\n",
    "print(my_string_variable)"
   ]
  },
  {
   "cell_type": "markdown",
   "metadata": {},
   "source": [
    "### Vectors"
   ]
  },
  {
   "cell_type": "code",
   "execution_count": 4,
   "metadata": {},
   "outputs": [],
   "source": [
    "# initialization of a vector\n",
    "my_numeric_vector = [1,2,3,4,5,6]\n",
    "my_sequence = list(range(1,7))\n",
    "my_string_vector = [\"hello\", \"world\", \"!\"]\n",
    "my_logic_vector = [True, False]\n",
    "import random\n",
    "my_random_vector = random.sample(list(range(1,5000)), 25) # Vector with 25 elements with random number from 1 to 5000"
   ]
  },
  {
   "cell_type": "code",
   "execution_count": 5,
   "metadata": {},
   "outputs": [
    {
     "data": {
      "text/plain": [
       "[1, 2, 3, 4, 5, 6]"
      ]
     },
     "execution_count": 5,
     "metadata": {},
     "output_type": "execute_result"
    }
   ],
   "source": [
    "my_numeric_vector"
   ]
  },
  {
   "cell_type": "markdown",
   "metadata": {},
   "source": [
    "#### Operations with vectors\n",
    "\n",
    "There are many libraries for statistics analysis, so you can use the same operations on different libraries."
   ]
  },
  {
   "cell_type": "code",
   "execution_count": 6,
   "metadata": {},
   "outputs": [
    {
     "name": "stdout",
     "output_type": "stream",
     "text": [
      "3.5\n",
      "3.5\n",
      "3.5\n"
     ]
    }
   ],
   "source": [
    "sum(my_numeric_vector) # sum\n",
    "import statistics\n",
    "print(statistics.mean(my_numeric_vector)) # mean\n",
    "print(statistics.median(my_numeric_vector)) # median\n",
    "import numpy\n",
    "print(numpy.median(my_numeric_vector)) # median"
   ]
  },
  {
   "cell_type": "code",
   "execution_count": 7,
   "metadata": {},
   "outputs": [
    {
     "data": {
      "text/plain": [
       "[2, 4, 6, 8, 10, 12]"
      ]
     },
     "execution_count": 7,
     "metadata": {},
     "output_type": "execute_result"
    }
   ],
   "source": [
    "# multiplication 2 with each element of a vector\n",
    "# each variable my_new_vector is the same\n",
    "my_new_vector = [e * 2 for e in my_numeric_vector]\n",
    "my_new_vector = list(map(lambda x: x * 2, my_numeric_vector))\n",
    "import pandas\n",
    "serie = pandas.Series(my_numeric_vector)\n",
    "my_new_vector = (serie * 2).tolist()\n",
    "import numpy\n",
    "my_new_vector = list(numpy.array(my_numeric_vector) * 2)\n",
    "my_new_vector"
   ]
  },
  {
   "cell_type": "code",
   "execution_count": 8,
   "metadata": {},
   "outputs": [
    {
     "data": {
      "text/plain": [
       "[0.5, 1.0, 1.5, 2.0, 2.5, 3.0]"
      ]
     },
     "execution_count": 8,
     "metadata": {},
     "output_type": "execute_result"
    }
   ],
   "source": [
    "# division 2 with each element of a vector\n",
    "# each variable my_new_vector is the same\n",
    "my_new_vector = [e / 2 for e in my_numeric_vector]\n",
    "my_new_vector = list(map(lambda x: x / 2, my_numeric_vector))\n",
    "serie = pandas.Series(my_numeric_vector)\n",
    "my_new_vector = (serie / 2).tolist()\n",
    "my_new_vector = list(numpy.array(my_numeric_vector) / 2)\n",
    "my_new_vector"
   ]
  },
  {
   "cell_type": "code",
   "execution_count": 9,
   "metadata": {},
   "outputs": [
    {
     "data": {
      "text/plain": [
       "[2, 4, 6, 8, 10, 12]"
      ]
     },
     "execution_count": 9,
     "metadata": {},
     "output_type": "execute_result"
    }
   ],
   "source": [
    "# sum each element of a vector with another vector by position\n",
    "# each variable my_new_vector is the same\n",
    "my_new_vector = [sum(e) for e in zip(my_numeric_vector, my_sequence)]\n",
    "my_new_vector = [x + y for x, y in zip(my_numeric_vector, my_sequence)]\n",
    "import operator\n",
    "my_new_vector = list(map(operator.add, my_numeric_vector, my_sequence))\n",
    "import pandas\n",
    "my_new_vector = list(pandas.Series(my_numeric_vector).add(pandas.Series(my_sequence)))\n",
    "import numpy\n",
    "my_new_vector = list(numpy.array(my_numeric_vector) + numpy.array(my_sequence))\n",
    "my_new_vector"
   ]
  },
  {
   "cell_type": "code",
   "execution_count": 10,
   "metadata": {},
   "outputs": [
    {
     "name": "stdout",
     "output_type": "stream",
     "text": [
      "hello\n",
      "['hello', '!']\n",
      "['hello', 'world']\n"
     ]
    }
   ],
   "source": [
    "# get element from a vector\n",
    "print(my_string_vector[0]) # print hello\n",
    "print(my_string_vector[::len(my_string_vector)-1]) # print hello!\n",
    "print(my_string_vector[0:2]) # print hello world"
   ]
  },
  {
   "cell_type": "code",
   "execution_count": 11,
   "metadata": {},
   "outputs": [
    {
     "name": "stdout",
     "output_type": "stream",
     "text": [
      "   one  two  three  four  five  six\n",
      "0    1    2      3     4     5    6\n"
     ]
    }
   ],
   "source": [
    "# add labels to a vector\n",
    "import pandas\n",
    "names = [\"one\",\"two\",\"three\",\"four\",\"five\",\"six\"]\n",
    "my_vector = pandas.DataFrame(my_numeric_vector, index=names).T\n",
    "print(my_vector)"
   ]
  },
  {
   "cell_type": "code",
   "execution_count": 12,
   "metadata": {},
   "outputs": [
    {
     "name": "stdout",
     "output_type": "stream",
     "text": [
      "<class 'numpy.int64'>\n",
      "<class 'numpy.str_'>\n"
     ]
    }
   ],
   "source": [
    "# get data type of a vector\n",
    "import numpy\n",
    "print(numpy.array(my_vector).dtype.type) # print numpy.int64\n",
    "print(numpy.array(my_string_vector).dtype.type) # print numpy.str_"
   ]
  },
  {
   "cell_type": "code",
   "execution_count": 13,
   "metadata": {},
   "outputs": [
    {
     "data": {
      "text/plain": [
       "['1', '2', '3', '4', '5', '6']"
      ]
     },
     "execution_count": 13,
     "metadata": {},
     "output_type": "execute_result"
    }
   ],
   "source": [
    "# convertion of each element of a vector\n",
    "# each variable my_new_string_vector is the same\n",
    "my_new_string_vector = [str(e) for e in my_numeric_vector]\n",
    "my_new_string_vector = list(map(str, my_numeric_vector))\n",
    "my_new_string_vector"
   ]
  },
  {
   "cell_type": "markdown",
   "metadata": {},
   "source": [
    "### Matrixes\n",
    "\n",
    "A matrix is a vector with more dimensions"
   ]
  },
  {
   "cell_type": "code",
   "execution_count": 14,
   "metadata": {},
   "outputs": [
    {
     "data": {
      "text/plain": [
       "[[0, 0, 0, 0, 0], [0, 0, 0, 0, 0]]"
      ]
     },
     "execution_count": 14,
     "metadata": {},
     "output_type": "execute_result"
    }
   ],
   "source": [
    "my_matrix = [[0] * 5 for e in range(2)] # creates a matrix bidimensional with 2 rows and 5 columns\n",
    "my_matrix"
   ]
  },
  {
   "cell_type": "code",
   "execution_count": 15,
   "metadata": {},
   "outputs": [
    {
     "data": {
      "text/plain": [
       "[[1, 2, 3, 4, 5], [1, 2, 3, 4, 5]]"
      ]
     },
     "execution_count": 15,
     "metadata": {},
     "output_type": "execute_result"
    }
   ],
   "source": [
    "my_matrix = [list(range(1,6)) for e in range(2)] # creates a matrix bidimensional with 2 rows and 5 columns\n",
    "my_matrix    "
   ]
  },
  {
   "cell_type": "code",
   "execution_count": 16,
   "metadata": {},
   "outputs": [
    {
     "data": {
      "text/plain": [
       "array([[ 1,  2,  3,  4,  5],\n",
       "       [ 6,  7,  8,  9, 10]])"
      ]
     },
     "execution_count": 16,
     "metadata": {},
     "output_type": "execute_result"
    }
   ],
   "source": [
    "import numpy\n",
    "my_matrix = numpy.arange(1,11).reshape(2, 5) # creates a matrix bidimensional with 2 rows and 5 columns\n",
    "my_matrix"
   ]
  },
  {
   "cell_type": "code",
   "execution_count": 17,
   "metadata": {},
   "outputs": [
    {
     "data": {
      "text/plain": [
       "array([[ 1,  3,  5,  7,  9],\n",
       "       [ 2,  4,  6,  8, 10]])"
      ]
     },
     "execution_count": 17,
     "metadata": {},
     "output_type": "execute_result"
    }
   ],
   "source": [
    "my_matrix = numpy.arange(1,11).reshape(5, 2).T # creates a matrix bidimensional with 2 rows and 5 columns like R language\n",
    "my_matrix"
   ]
  },
  {
   "cell_type": "code",
   "execution_count": 18,
   "metadata": {},
   "outputs": [
    {
     "name": "stdout",
     "output_type": "stream",
     "text": [
      "4\n",
      "[1 3 5 7 9]\n",
      "[3 4]\n"
     ]
    }
   ],
   "source": [
    "print(my_matrix[1,1]) # prints 4\n",
    "print(my_matrix[0,]) # prints row 1\n",
    "print(my_matrix[:,1]) # prints column 2"
   ]
  },
  {
   "cell_type": "code",
   "execution_count": 19,
   "metadata": {},
   "outputs": [
    {
     "data": {
      "text/html": [
       "<div>\n",
       "<style scoped>\n",
       "    .dataframe tbody tr th:only-of-type {\n",
       "        vertical-align: middle;\n",
       "    }\n",
       "\n",
       "    .dataframe tbody tr th {\n",
       "        vertical-align: top;\n",
       "    }\n",
       "\n",
       "    .dataframe thead th {\n",
       "        text-align: right;\n",
       "    }\n",
       "</style>\n",
       "<table border=\"1\" class=\"dataframe\">\n",
       "  <thead>\n",
       "    <tr style=\"text-align: right;\">\n",
       "      <th></th>\n",
       "      <th>vector number</th>\n",
       "      <th>quantity</th>\n",
       "    </tr>\n",
       "  </thead>\n",
       "  <tbody>\n",
       "    <tr>\n",
       "      <th>yesterday</th>\n",
       "      <td>one</td>\n",
       "      <td>0.1</td>\n",
       "    </tr>\n",
       "    <tr>\n",
       "      <th>today</th>\n",
       "      <td>two</td>\n",
       "      <td>1.0</td>\n",
       "    </tr>\n",
       "    <tr>\n",
       "      <th>tomorrow</th>\n",
       "      <td>three</td>\n",
       "      <td>10.0</td>\n",
       "    </tr>\n",
       "  </tbody>\n",
       "</table>\n",
       "</div>"
      ],
      "text/plain": [
       "          vector number  quantity\n",
       "yesterday           one       0.1\n",
       "today               two       1.0\n",
       "tomorrow          three      10.0"
      ]
     },
     "execution_count": 19,
     "metadata": {},
     "output_type": "execute_result"
    }
   ],
   "source": [
    "# merge of vectors\n",
    "vector_one = [\"one\", 0.1]\n",
    "vector_two = [\"two\", 1]\n",
    "vector_three = [\"three\", 10]\n",
    "my_vectors = [vector_one, vector_two, vector_three]\n",
    "import pandas\n",
    "colnames = [\"vector number\", \"quantity\"]\n",
    "rownames = [\"yesterday\", \"today\", \"tomorrow\"]\n",
    "pandas.DataFrame(my_vectors, index=rownames, columns=colnames)"
   ]
  },
  {
   "cell_type": "markdown",
   "metadata": {},
   "source": [
    "### Weighted average"
   ]
  },
  {
   "cell_type": "code",
   "execution_count": 20,
   "metadata": {},
   "outputs": [],
   "source": [
    "# performance\n",
    "apple_performance = 3\n",
    "netflix_performance = 7\n",
    "amazon_performance = 11\n",
    "# weight\n",
    "apple_weight = .3\n",
    "netflix_weight = .4\n",
    "amazon_weight = .3"
   ]
  },
  {
   "cell_type": "code",
   "execution_count": 21,
   "metadata": {},
   "outputs": [
    {
     "data": {
      "text/plain": [
       "7.0"
      ]
     },
     "execution_count": 21,
     "metadata": {},
     "output_type": "execute_result"
    }
   ],
   "source": [
    "# portfolio performance\n",
    "weighted_average = apple_performance * apple_weight + netflix_performance * netflix_weight + amazon_performance * amazon_weight\n",
    "weighted_average"
   ]
  },
  {
   "cell_type": "code",
   "execution_count": 22,
   "metadata": {},
   "outputs": [
    {
     "name": "stdout",
     "output_type": "stream",
     "text": [
      "   apple  netflix  amazon\n",
      "0      3        7      11\n",
      "   apple  netflix  amazon\n",
      "0    0.3      0.4     0.3\n"
     ]
    }
   ],
   "source": [
    "# the same sample but with vectors\n",
    "performance = [3,7,11]\n",
    "weight = [.3,.4,.3]\n",
    "company = ['apple','netflix','amazon']\n",
    "import pandas\n",
    "performance = pandas.DataFrame(performance, index=company).T\n",
    "weight = pandas.DataFrame(weight, index=company).T\n",
    "print(performance)\n",
    "print(weight)"
   ]
  },
  {
   "cell_type": "code",
   "execution_count": 23,
   "metadata": {},
   "outputs": [
    {
     "name": "stdout",
     "output_type": "stream",
     "text": [
      "   apple  netflix  amazon\n",
      "0    0.9      2.8     3.3\n",
      "0    7.0\n",
      "dtype: float64\n"
     ]
    }
   ],
   "source": [
    "# with headers\n",
    "performance_weight = performance.multiply(weight)\n",
    "print(performance_weight)\n",
    "weighted_average = performance_weight.sum(axis=1)\n",
    "print(weighted_average)"
   ]
  },
  {
   "cell_type": "code",
   "execution_count": 24,
   "metadata": {},
   "outputs": [
    {
     "name": "stdout",
     "output_type": "stream",
     "text": [
      "[[0.9 2.8 3.3]]\n",
      "7.0\n"
     ]
    }
   ],
   "source": [
    "# without headers\n",
    "import numpy\n",
    "performance_weight = numpy.array(performance) * numpy.array(weight)\n",
    "print(performance_weight)\n",
    "weighted_average = numpy.sum(performance_weight)\n",
    "print(weighted_average)"
   ]
  },
  {
   "cell_type": "markdown",
   "metadata": {},
   "source": [
    "### Functions"
   ]
  },
  {
   "cell_type": "code",
   "execution_count": 25,
   "metadata": {},
   "outputs": [
    {
     "data": {
      "text/plain": [
       "7.0"
      ]
     },
     "execution_count": 25,
     "metadata": {},
     "output_type": "execute_result"
    }
   ],
   "source": [
    "import numpy\n",
    "# the weighted average but with a function\n",
    "def weighted_average_function(performance, weight):\n",
    "    return numpy.sum(numpy.array(performance) * numpy.array(weight))\n",
    "performance = [3,7,11]\n",
    "weight = [.3,.4,.3]\n",
    "weighted_average = weighted_average_function(performance, weight)\n",
    "weighted_average"
   ]
  }
 ],
 "metadata": {
  "kernelspec": {
   "display_name": "Python 3",
   "language": "python",
   "name": "python3"
  },
  "language_info": {
   "codemirror_mode": {
    "name": "ipython",
    "version": 3
   },
   "file_extension": ".py",
   "mimetype": "text/x-python",
   "name": "python",
   "nbconvert_exporter": "python",
   "pygments_lexer": "ipython3",
   "version": "3.8.6"
  }
 },
 "nbformat": 4,
 "nbformat_minor": 4
}
